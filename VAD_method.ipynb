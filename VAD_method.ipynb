{
 "cells": [
  {
   "cell_type": "markdown",
   "metadata": {},
   "source": [
    "### SOEE5920 Mres Computer Project\n"
   ]
  },
  {
   "cell_type": "markdown",
   "metadata": {},
   "source": [
    "# Applying the VAD method to $V$ and $Z_{DR}$"
   ]
  },
  {
   "cell_type": "markdown",
   "metadata": {},
   "source": [
    " "
   ]
  },
  {
   "cell_type": "markdown",
   "metadata": {},
   "source": [
    "\n",
    "\n",
    "\n",
    "\n",
    "This notebook shows how to apply the VAD method to the Doppler velocities $Z$ and differential reflectivity $Z_{DR}$ to get parameters of DoT and common orientation. Rennie et al. (2010) and Rennie (2010) applied the VAD method to retrieve parameters of insect flight (DoT, common orientation). \n",
    "\n",
    "The data variables are extracted using the code adapted from Lindsay Bennet's  notebook (Reference notebook 1). The VAD method code was written by me, apart from a few lines from L.B.'s notebook, which I have commented with Lindsay's initials (LB)."
   ]
  },
  {
   "cell_type": "markdown",
   "metadata": {},
   "source": [
    " "
   ]
  },
  {
   "cell_type": "code",
   "execution_count": 2,
   "metadata": {},
   "outputs": [
    {
     "name": "stdout",
     "output_type": "stream",
     "text": [
      "\n",
      "## You are using the Python ARM Radar Toolkit (Py-ART), an open source\n",
      "## library for working with weather radar data. Py-ART is partly\n",
      "## supported by the U.S. Department of Energy as part of the Atmospheric\n",
      "## Radiation Measurement (ARM) Climate Research Facility, an Office of\n",
      "## Science user facility.\n",
      "##\n",
      "## If you use this software to prepare a publication, please cite:\n",
      "##\n",
      "##     JJ Helmus and SM Collis, JORS 2016, doi: 10.5334/jors.119\n",
      "\n"
     ]
    }
   ],
   "source": [
    "# First import useful packages\n",
    "\n",
    "import pyart\n",
    "import numpy as np\n",
    "import matplotlib\n",
    "import matplotlib.pyplot as plt\n",
    "from matplotlib import rcParams\n",
    "import warnings\n",
    "import os\n",
    "import copy\n",
    "\n",
    "warnings.filterwarnings(\"ignore\", category=DeprecationWarning) \n",
    "warnings.filterwarnings(\"ignore\", category=RuntimeWarning)\n",
    "warnings.filterwarnings(\"ignore\", category=np.VisibleDeprecationWarning)\n",
    "\n",
    "%matplotlib inline\n",
    "\n",
    "np.set_printoptions(suppress=True)"
   ]
  },
  {
   "cell_type": "markdown",
   "metadata": {},
   "source": [
    "## 1. Extracting radar variables "
   ]
  },
  {
   "cell_type": "markdown",
   "metadata": {},
   "source": [
    " ### 1.1. Extracting PPI file from Jasmin"
   ]
  },
  {
   "cell_type": "code",
   "execution_count": 3,
   "metadata": {},
   "outputs": [],
   "source": [
    "# Selecting the date \n",
    "\n",
    "date='20170619'"
   ]
  },
  {
   "cell_type": "code",
   "execution_count": 4,
   "metadata": {},
   "outputs": [],
   "source": [
    "# Path to the data files \n",
    "\n",
    "base_directory = '/gws/nopw/j04/ncas_radar_vol2/data/xband/chilbolton/cfradial/calib_v2/'\n",
    "\n",
    "# Creating a new directory to save plots\n",
    "\n",
    "output_directory = os.path.join('/home/users/marta_9/plots/', date)   # 'date' as the title of the directory\n"
   ]
  },
  {
   "cell_type": "code",
   "execution_count": 5,
   "metadata": {},
   "outputs": [
    {
     "name": "stdout",
     "output_type": "stream",
     "text": [
      "215\n",
      "ncas-mobile-x-band-radar-1_chilbolton_20170619-000747_SUR_v1.nc\n"
     ]
    }
   ],
   "source": [
    "# The PPI files are stored in the 'sur' directory, which can be accessed as follows\n",
    "\n",
    "sur_directory = os.path.join(base_directory,'sur/', date)\n",
    "\n",
    "# Accessing the PPI files and listing them in order\n",
    "\n",
    "sur_files = os.listdir(sur_directory)\n",
    "sur_files.sort()\n",
    "\n",
    "# Check how many files there are\n",
    "\n",
    "print(len(sur_files))\n",
    "\n",
    "\n",
    "# Print the first file \n",
    "\n",
    "print(sur_files[1])     # The path shows the time of the scan\n"
   ]
  },
  {
   "cell_type": "code",
   "execution_count": 6,
   "metadata": {},
   "outputs": [
    {
     "name": "stdout",
     "output_type": "stream",
     "text": [
      "/gws/nopw/j04/ncas_radar_vol2/data/xband/chilbolton/cfradial/calib_v2/sur/20170619/ncas-mobile-x-band-radar-1_chilbolton_20170619-073614_SUR_v1.nc\n"
     ]
    }
   ],
   "source": [
    "# Choose one file. I am choosing file n = 68 at time 07:36:14\n",
    "\n",
    "n = 68\n",
    "\n",
    "sur_file = os.path.join(sur_directory, sur_files[n]) \n",
    "print(sur_file)"
   ]
  },
  {
   "cell_type": "markdown",
   "metadata": {},
   "source": [
    "### 1.2. Uploading NetCDF file"
   ]
  },
  {
   "cell_type": "markdown",
   "metadata": {},
   "source": [
    "Alternatively to accessing the files from Jasmin, the PPI datafile in GitHub can be downloaded into a local machine and uploaded into Jupyter."
   ]
  },
  {
   "cell_type": "code",
   "execution_count": 7,
   "metadata": {},
   "outputs": [],
   "source": [
    "sur_file = 'ncas-mobile-x-band-radar-1_chilbolton_20170619-073614_SUR_v1.nc'   # Name of the downloaded files "
   ]
  },
  {
   "cell_type": "markdown",
   "metadata": {},
   "source": [
    " "
   ]
  },
  {
   "cell_type": "markdown",
   "metadata": {},
   "source": [
    " "
   ]
  },
  {
   "cell_type": "markdown",
   "metadata": {},
   "source": [
    "We are going to use PPI scans to plot the radar variables."
   ]
  },
  {
   "cell_type": "code",
   "execution_count": 8,
   "metadata": {},
   "outputs": [],
   "source": [
    "# Save the PPI scans into a variable called rad\n",
    "\n",
    "rad = pyart.io.read(sur_file, delay_field_loading = True) \n",
    "\n",
    "# True to delay loading of field data from the file until the ‘data’ key in a particular field dictionary is accessed.\n",
    "# In this case until 'sur_file' is loaded\n",
    "\n"
   ]
  },
  {
   "cell_type": "code",
   "execution_count": 9,
   "metadata": {},
   "outputs": [
    {
     "name": "stdout",
     "output_type": "stream",
     "text": [
      "(3600, 1000)\n",
      "(3600, 1000)\n"
     ]
    }
   ],
   "source": [
    "# Extract and check shape of the radar variables Doppler velocity and ZDR from rad\n",
    "\n",
    "dopvel = rad.fields['V']['data']  \n",
    "print(dopvel.shape)              \n",
    "\n",
    "ZDR = rad.fields['ZDR']['data']\n",
    "print(ZDR.shape)\n"
   ]
  },
  {
   "cell_type": "code",
   "execution_count": 30,
   "metadata": {},
   "outputs": [
    {
     "name": "stdout",
     "output_type": "stream",
     "text": [
      "[[nan -3.0456693172454834 8.214173316955566 ... nan nan nan]\n",
      " [nan -4.305511951446533 5.930708408355713 ... nan nan nan]\n",
      " [nan -3.833070993423462 -0.28976377844810486 ... nan nan nan]\n",
      " ...\n",
      " [nan -3.911811113357544 5.064566612243652 ... nan nan nan]\n",
      " [nan -4.148031234741211 -5.092913627624512 ... nan 5.773228168487549 nan]\n",
      " [nan -4.305511951446533 10.812599182128906 ... nan nan nan]]\n",
      "[[nan nan 2.260629892349243 ... nan nan nan]\n",
      " [nan nan 2.260629892349243 ... nan nan nan]\n",
      " [nan nan -12.810235977172852 ... nan nan nan]\n",
      " ...\n",
      " [nan nan nan ... nan nan nan]\n",
      " [nan nan nan ... nan nan nan]\n",
      " [nan nan -12.55905532836914 ... nan nan nan]]\n",
      "[[nan -3.0456693172454834 8.214173316955566 ... nan nan nan]\n",
      " [nan -4.305511951446533 5.930708408355713 ... nan nan nan]\n",
      " [nan -3.833070993423462 -0.28976377844810486 ... nan nan nan]\n",
      " ...\n",
      " [nan -3.911811113357544 5.064566612243652 ... nan nan nan]\n",
      " [nan -4.148031234741211 -5.092913627624512 ... nan 5.773228168487549 nan]\n",
      " [nan -4.305511951446533 10.812599182128906 ... nan nan nan]]\n"
     ]
    }
   ],
   "source": [
    "# Print the first observations of the series to check for empty values\n",
    "\n",
    "print(ZDR[:360,:100])\n",
    "print(dopvel[:360,:100])\n",
    "\n",
    "# Both datasets present empty values '--'\n",
    "\n",
    "# It is useful to substitute '--' with nan values for the next steps. This is because some functions substitue empty values with fixed values, e.g. '9e^30'\n",
    "\n",
    "ZDR = copy.deepcopy(rad.fields['ZDR']['data']) \n",
    "dopvel = copy.deepcopy(rad.fields['V']['data'])  # (LB) \n",
    "\n",
    "index_zdr = ZDR.mask == True                        # (LB)\n",
    "index_dopvel = dopvel.mask == True  \n",
    "\n",
    "ZDR[index_zdr]=np.nan\n",
    "dopvel[index_dopvel]=np.nan       # (LB)\n",
    "\n",
    "\n",
    "# Check values again\n",
    "\n",
    "print(ZDR[:360,:100])\n"
   ]
  },
  {
   "cell_type": "code",
   "execution_count": 11,
   "metadata": {},
   "outputs": [
    {
     "name": "stdout",
     "output_type": "stream",
     "text": [
      "(3600,)\n"
     ]
    }
   ],
   "source": [
    "# The radar has 10 elevations. They can be stored into an object 'el'\n",
    "\n",
    "el = rad.elevation['data']\n",
    "print(el.shape)             # There are 10 elevations * 360 degrees \n",
    "                            # therefore the elevation changes every 360 observations"
   ]
  },
  {
   "cell_type": "code",
   "execution_count": 12,
   "metadata": {},
   "outputs": [],
   "source": [
    "# Extract the azimuth variable\n",
    "\n",
    "azi = rad.azimuth['data']"
   ]
  },
  {
   "cell_type": "code",
   "execution_count": 13,
   "metadata": {},
   "outputs": [
    {
     "name": "stdout",
     "output_type": "stream",
     "text": [
      "(1000,)\n"
     ]
    }
   ],
   "source": [
    "# Extact range array\n",
    "\n",
    "rg = rad.range['data']/1000\n",
    "print(rg.shape)"
   ]
  },
  {
   "cell_type": "markdown",
   "metadata": {},
   "source": [
    "## 2. Plotting the radar variables"
   ]
  },
  {
   "cell_type": "code",
   "execution_count": 39,
   "metadata": {},
   "outputs": [],
   "source": [
    "# Once that all the variables have been defines, we can use the plot_radar function to plot a radar variable (ZDR, V) for a particular elevation(s) and height\n",
    "\n",
    "# There are 10 different elevations, therefore we can loop each elevation and plot the data for each of them\n",
    "\n",
    "def plot_radar(min_el, max_el, height, azimuth, variable):\n",
    "    \n",
    "    for a in range(min_el, max_el+1):             # Add one to the max elevation, range counts a number less\n",
    "       \n",
    "    # The elevation array is a 1D array with 3600 observations\n",
    "    # The elevation value changes every 360 observations\n",
    "    \n",
    "        if a < 10:\n",
    "            \n",
    "            elev = el[360*a]                               # Select elevation each 360 observations, e.g. for a = 0, el[0]; for a = 1, el[360]\n",
    "            \n",
    "            my_range = height/np.sin(elev*np.pi/180)          # (LB)   # Finding the correspondent range for a specific height and elevation\n",
    "            range_index = np.where(np.abs(my_range - rg) == np.min(np.abs(my_range-rg)))[0][0]      # (LB)    # Setting a range index\n",
    "            plt.plot(azi[360*a:360*(a+1)], variable[360*a:360*(a+1), range_index], 'r.', ms = 1)\n",
    "      \n",
    "    # Consider the tenth elevation \n",
    "    # el[3600] does not exist, as Python starts counting from 0, the last observation is el[3599]\n",
    "    \n",
    "        elif a == 10:  \n",
    "            \n",
    "            elev = el[359*a]\n",
    "            my_range = height/np.sin(elev*np.pi/180)\n",
    "            range_index = np.where(np.abs(my_range - rg) == np.min(np.abs(my_range-rg)))[0][0]\n",
    "            plt.plot(azimuth[360*a:360*(a+1)], variable[360*a:360*(a+1), range_index], 'r.', ms = 1)\n",
    "       \n",
    "        #elif variable == 'dopvel':\n",
    "         #  \n",
    "    "
   ]
  },
  {
   "cell_type": "code",
   "execution_count": 92,
   "metadata": {},
   "outputs": [
    {
     "data": {
      "image/png": "[encoded data removed]",
      "text/plain": [
       "<Figure size 432x288 with 1 Axes>"
      ]
     },
     "metadata": {
      "needs_background": "light"
     },
     "output_type": "display_data"
    }
   ],
   "source": [
    "# We can now plot the data from all 10 elevations. At altitude 800 metres, a layer of higher reflectivity was shown in the RHI scan. \n",
    "\n",
    "# This indicates a possible higher density of insects. Therefore, we can try this altitude first.\n",
    "# We want to make 2 plots: one for the Doppler velocities and one for the differential reflectivity \n",
    "\n",
    "\n",
    "# Set the altitude \n",
    "\n",
    "\n",
    "\n",
    "# First plot the Doppler velocities\n",
    "\n",
    "\n",
    "plot_radar(0, 10, 0.8, azi, dopvel)   # The insects seems to be adopting a common DoT at all elevations: one peak sine curve\n",
    "\n",
    "\n",
    "# Add x and y labels and plot title\n",
    "\n",
    "altitude = '0.8'\n",
    "\n",
    "plt.xlabel('Azimuth')\n",
    "plt.ylabel('Doppler Velocity')\n",
    "plt.title('PPI scan at '+ altitude +' km above ground')\n",
    "\n",
    "plt.savefig('dopvel_20170619.png')   # The plot can be saved into your Jupyter home directory with this function"
   ]
  },
  {
   "cell_type": "markdown",
   "metadata": {},
   "source": [
    "The insects seems to be adopting a common DoT at all elevations. This is indicated by the one peak sine curve."
   ]
  },
  {
   "cell_type": "code",
   "execution_count": 93,
   "metadata": {},
   "outputs": [
    {
     "data": {
      "image/png": "[encoded data removed]",
      "text/plain": [
       "<Figure size 432x288 with 1 Axes>"
      ]
     },
     "metadata": {
      "needs_background": "light"
     },
     "output_type": "display_data"
    }
   ],
   "source": [
    "# Now plot the ZDR\n",
    "\n",
    "\n",
    "altitude = '0.5'\n",
    "\n",
    "plot_radar(0, 10, 0.5, azi, ZDR)   \n",
    "\n",
    "\n",
    "plt.xlabel('Azimuth')\n",
    "plt.ylabel('Differential Reflectivity')\n",
    "plt.title('PPI scan at '+  altitude + ' km above ground')\n",
    "\n",
    "plt.savefig('ZDR_20170619.png')  "
   ]
  },
  {
   "cell_type": "markdown",
   "metadata": {},
   "source": [
    "From the two peaked sine shape of the data, we can deduce that the insects are keeping a common orientation. "
   ]
  },
  {
   "cell_type": "markdown",
   "metadata": {},
   "source": [
    "## 3. Fitting a curve to the plots"
   ]
  },
  {
   "cell_type": "markdown",
   "metadata": {},
   "source": [
    "We can fit a sine curve to the V and ZDR plots to estimate parameters of DoT and common orientation."
   ]
  },
  {
   "cell_type": "code",
   "execution_count": 51,
   "metadata": {},
   "outputs": [],
   "source": [
    "# Define a function sine_fit that returns a sine curve with coefficients a, b, c and d. \n",
    "# a is the amplitude of the curve, b is the period, c is the phase (horizontal shift), and d is the vertical shift\n",
    "\n",
    "def sine_fit(x, a, b, c, d):\n",
    "    return a * np.sin(b* (x - c) ) + d"
   ]
  },
  {
   "cell_type": "code",
   "execution_count": 52,
   "metadata": {},
   "outputs": [],
   "source": [
    "# We can define some initial parameters to fit the curve to our data\n",
    "\n",
    "p0 = (1, 1, 1, 1)"
   ]
  },
  {
   "cell_type": "code",
   "execution_count": 53,
   "metadata": {},
   "outputs": [
    {
     "data": {
      "text/plain": [
       "[<matplotlib.lines.Line2D at 0x7f8488eb7160>]"
      ]
     },
     "execution_count": 53,
     "metadata": {},
     "output_type": "execute_result"
    },
    {
     "data": {
      "image/png": "[encoded data removed]",
      "text/plain": [
       "<Figure size 432x288 with 1 Axes>"
      ]
     },
     "metadata": {
      "needs_background": "light"
     },
     "output_type": "display_data"
    }
   ],
   "source": [
    "# Plot the data and the sine function\n",
    "\n",
    "plot_radar(0, 10, 0.8, azi, dopvel)\n",
    "plt.plot(np.arange(0,360), sine_fit(np.arange(0,360),*p0))"
   ]
  },
  {
   "cell_type": "code",
   "execution_count": 54,
   "metadata": {},
   "outputs": [],
   "source": [
    "# The parameters can be changes until the curve fits the data\n",
    "\n",
    "p1 = (6.6, 0.017, 140, 0)"
   ]
  },
  {
   "cell_type": "code",
   "execution_count": 57,
   "metadata": {},
   "outputs": [
    {
     "data": {
      "text/plain": [
       "Text(0.5, 1.0, 'Doppler velocity sine fit at 20170619')"
      ]
     },
     "execution_count": 57,
     "metadata": {},
     "output_type": "execute_result"
    },
    {
     "data": {
      "image/png": "[encoded data removed]",
      "text/plain": [
       "<Figure size 432x288 with 1 Axes>"
      ]
     },
     "metadata": {
      "needs_background": "light"
     },
     "output_type": "display_data"
    }
   ],
   "source": [
    "plot_radar(0, 10, 0.8, azi, dopvel)\n",
    "plt.plot(np.arange(0,360), sine_fit(np.arange(0,360),*p1))\n",
    "\n",
    "plt.xlabel('Azimuth')\n",
    "plt.ylabel('Doppler Velocity')\n",
    "plt.title('Doppler velocity sine fit at '+date)"
   ]
  },
  {
   "cell_type": "markdown",
   "metadata": {},
   "source": [
    " ### Result:\n",
    " \n",
    " The plot above shows that the DoT paramer is approximately at 225° (x-coordinates of sine curve)."
   ]
  },
  {
   "cell_type": "markdown",
   "metadata": {},
   "source": [
    " "
   ]
  },
  {
   "cell_type": "code",
   "execution_count": 58,
   "metadata": {},
   "outputs": [
    {
     "data": {
      "text/plain": [
       "Text(0.5, 1.0, 'Differential reflectivity sine fit at 20170619')"
      ]
     },
     "execution_count": 58,
     "metadata": {},
     "output_type": "execute_result"
    },
    {
     "data": {
      "image/png": "[encoded data removed]",
      "text/plain": [
       "<Figure size 432x288 with 1 Axes>"
      ]
     },
     "metadata": {
      "needs_background": "light"
     },
     "output_type": "display_data"
    }
   ],
   "source": [
    "# Now plot the ZDR\n",
    "\n",
    "p0 = (1.8, 0.033, 40, 8.5)\n",
    "\n",
    "plt.plot(np.arange(0,360), sine_fit(np.arange(0,360),*p0))\n",
    "plot_radar(0, 10, 0.8, azi, ZDR)   \n",
    "\n",
    "\n",
    "plt.xlabel('Azimuth')\n",
    "plt.ylabel('Differential Reflectivity')\n",
    "plt.title('Differential reflectivity sine fit at '+date)"
   ]
  },
  {
   "cell_type": "markdown",
   "metadata": {},
   "source": [
    "  "
   ]
  },
  {
   "cell_type": "markdown",
   "metadata": {},
   "source": [
    "### Result:\n",
    "\n",
    "\n",
    "To find the parameer that describes the common orientation, in certain cases the $Z_{DR}$ data has to be manipulated. This is when the sine function that fits the $Z_{DR}$ has two peaks of maximum $Z_{DR}$ and two of minimum $Z_{DR}$. \n",
    "\n",
    "In our plot above, the minimum $Z_{DR}$ is at 175° and at 360°. It can be assumed that the insects are oriented closer to the DoT; therefore, 175° would be a more reasonable parameter to describe the heading direction of the insetcs than 360°, as it is closer to the DoT (225°). \n",
    "\n",
    "However, in other cases, the orientation parameter might be more ambiguous, as the curve might present two minimum points that could both be reasonable estimates. In those cases, some data manipulation should be applied. \n"
   ]
  },
  {
   "cell_type": "markdown",
   "metadata": {},
   "source": [
    " "
   ]
  },
  {
   "cell_type": "markdown",
   "metadata": {},
   "source": [
    "Rennie et al. (2010) manipulates the $Z_DR$ to estimate the a common orientation parameter."
   ]
  },
  {
   "cell_type": "markdown",
   "metadata": {},
   "source": [
    "## References"
   ]
  },
  {
   "cell_type": "markdown",
   "metadata": {},
   "source": [
    "Rennie, S., Illingworth, A., Dance, S. and Ballard, S., 2010. The accuracy of Doppler radar wind retrievals using insects as targets. Meteorological Applications, 17(4), pp.419-432.DOI: 10.1002/met.174\n",
    "\n",
    "Rennie, S., 2013. Common orientation and layering of migrating insects in southeastern Australia observed with a Doppler weather radar. Meteorological Applications, 21(2), pp.218-229. DOI: 10.1002/met.1378"
   ]
  }
 ],
 "metadata": {
  "kernelspec": {
   "display_name": "Python 3",
   "language": "python",
   "name": "python3"
  },
  "language_info": {
   "codemirror_mode": {
    "name": "ipython",
    "version": 3
   },
   "file_extension": ".py",
   "mimetype": "text/x-python",
   "name": "python",
   "nbconvert_exporter": "python",
   "pygments_lexer": "ipython3",
   "version": "3.8.6"
  }
 },
 "nbformat": 4,
 "nbformat_minor": 4
}
